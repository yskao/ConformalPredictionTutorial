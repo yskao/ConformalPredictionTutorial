{
  "cells": [
    {
      "cell_type": "markdown",
      "id": "c16ec7bb",
      "metadata": {
        "id": "c16ec7bb"
      },
      "source": [
        "\n",
        "# 中華隊成績查詢與分析工具\n",
        "**Credit by Simon Liu**\n",
        "\n",
        "此 Notebook 使用生成式 AI 和工具整合來查詢棒球選手的比賽成績並進行數據分析。\n"
      ]
    },
    {
      "cell_type": "code",
      "execution_count": null,
      "id": "368c02ba",
      "metadata": {
        "colab": {
          "base_uri": "https://localhost:8080/"
        },
        "id": "368c02ba",
        "outputId": "2904b400-9008-4cf4-f233-b16a59eafcd8"
      },
      "outputs": [
        {
          "output_type": "stream",
          "name": "stdout",
          "text": [
            "\u001b[2K   \u001b[90m━━━━━━━━━━━━━━━━━━━━━━━━━━━━━━━━━━━━━━━━\u001b[0m \u001b[32m2.4/2.4 MB\u001b[0m \u001b[31m13.6 MB/s\u001b[0m eta \u001b[36m0:00:00\u001b[0m\n",
            "\u001b[2K   \u001b[90m━━━━━━━━━━━━━━━━━━━━━━━━━━━━━━━━━━━━━━━━\u001b[0m \u001b[32m41.3/41.3 kB\u001b[0m \u001b[31m502.1 kB/s\u001b[0m eta \u001b[36m0:00:00\u001b[0m\n",
            "\u001b[2K   \u001b[90m━━━━━━━━━━━━━━━━━━━━━━━━━━━━━━━━━━━━━━━━\u001b[0m \u001b[32m3.1/3.1 MB\u001b[0m \u001b[31m16.5 MB/s\u001b[0m eta \u001b[36m0:00:00\u001b[0m\n",
            "\u001b[2K   \u001b[90m━━━━━━━━━━━━━━━━━━━━━━━━━━━━━━━━━━━━━━━━\u001b[0m \u001b[32m49.5/49.5 kB\u001b[0m \u001b[31m1.4 MB/s\u001b[0m eta \u001b[36m0:00:00\u001b[0m\n",
            "\u001b[?25h"
          ]
        }
      ],
      "source": [
        "## 安裝必要的套件\n",
        "# 安裝 LangChain 社群工具包和 Google Generative AI 模組。\n",
        "# 安裝必要的套件\n",
        "!pip install -q langchain_community langchain-google-genai"
      ]
    },
    {
      "cell_type": "markdown",
      "source": [
        "# Dataset"
      ],
      "metadata": {
        "id": "-C42a6lbOnlX"
      },
      "id": "-C42a6lbOnlX"
    },
    {
      "cell_type": "code",
      "source": [
        "# Download Dataset from huggingface\n",
        "## Please see the dataset here: https://huggingface.co/datasets/Simon-Liu/premier-12-chinese-taipei-performance-data/\n",
        "\n",
        "!wget https://huggingface.co/datasets/Simon-Liu/premier-12-chinese-taipei-performance-data/resolve/main/%E4%B8%AD%E8%8F%AF%E9%9A%8A_bat_data_with_chinese_names.csv\n",
        "!wget https://huggingface.co/datasets/Simon-Liu/premier-12-chinese-taipei-performance-data/resolve/main/%E4%B8%AD%E8%8F%AF%E9%9A%8A_field_data_with_chinese_names.csv\n",
        "!wget https://huggingface.co/datasets/Simon-Liu/premier-12-chinese-taipei-performance-data/resolve/main/%E4%B8%AD%E8%8F%AF%E9%9A%8A_pitch_data_with_chinese_names.csv"
      ],
      "metadata": {
        "colab": {
          "base_uri": "https://localhost:8080/"
        },
        "id": "RjX4vOvwwAJe",
        "outputId": "5c5a2691-e6d9-4c2f-f8c8-3edda08d4629"
      },
      "id": "RjX4vOvwwAJe",
      "execution_count": null,
      "outputs": [
        {
          "output_type": "stream",
          "name": "stdout",
          "text": [
            "--2024-11-20 06:24:48--  https://huggingface.co/datasets/Simon-Liu/premier-12-chinese-taipei-performance-data/resolve/main/%E4%B8%AD%E8%8F%AF%E9%9A%8A_bat_data_with_chinese_names.csv\n",
            "Resolving huggingface.co (huggingface.co)... 3.171.171.6, 3.171.171.128, 3.171.171.65, ...\n",
            "Connecting to huggingface.co (huggingface.co)|3.171.171.6|:443... connected.\n",
            "HTTP request sent, awaiting response... 200 OK\n",
            "Length: 1325 (1.3K) [text/plain]\n",
            "Saving to: ‘中華隊_bat_data_with_chinese_names.csv’\n",
            "\n",
            "\r          中華隊_ba   0%[                    ]       0  --.-KB/s               \r中華隊_bat_data_wit 100%[===================>]   1.29K  --.-KB/s    in 0s      \n",
            "\n",
            "2024-11-20 06:24:49 (530 MB/s) - ‘中華隊_bat_data_with_chinese_names.csv’ saved [1325/1325]\n",
            "\n",
            "--2024-11-20 06:24:49--  https://huggingface.co/datasets/Simon-Liu/premier-12-chinese-taipei-performance-data/resolve/main/%E4%B8%AD%E8%8F%AF%E9%9A%8A_field_data_with_chinese_names.csv\n",
            "Resolving huggingface.co (huggingface.co)... 3.171.171.6, 3.171.171.128, 3.171.171.65, ...\n",
            "Connecting to huggingface.co (huggingface.co)|3.171.171.6|:443... connected.\n",
            "HTTP request sent, awaiting response... 200 OK\n",
            "Length: 948 [text/plain]\n",
            "Saving to: ‘中華隊_field_data_with_chinese_names.csv’\n",
            "\n",
            "中華隊_field_data_w 100%[===================>]     948  --.-KB/s    in 0s      \n",
            "\n",
            "2024-11-20 06:24:49 (321 MB/s) - ‘中華隊_field_data_with_chinese_names.csv’ saved [948/948]\n",
            "\n",
            "--2024-11-20 06:24:49--  https://huggingface.co/datasets/Simon-Liu/premier-12-chinese-taipei-performance-data/resolve/main/%E4%B8%AD%E8%8F%AF%E9%9A%8A_pitch_data_with_chinese_names.csv\n",
            "Resolving huggingface.co (huggingface.co)... 3.171.171.6, 3.171.171.128, 3.171.171.65, ...\n",
            "Connecting to huggingface.co (huggingface.co)|3.171.171.6|:443... connected.\n",
            "HTTP request sent, awaiting response... 200 OK\n",
            "Length: 1150 (1.1K) [text/plain]\n",
            "Saving to: ‘中華隊_pitch_data_with_chinese_names.csv’\n",
            "\n",
            "中華隊_pitch_data_w 100%[===================>]   1.12K  --.-KB/s    in 0s      \n",
            "\n",
            "2024-11-20 06:24:49 (404 MB/s) - ‘中華隊_pitch_data_with_chinese_names.csv’ saved [1150/1150]\n",
            "\n"
          ]
        }
      ]
    },
    {
      "cell_type": "markdown",
      "source": [
        "# Model"
      ],
      "metadata": {
        "id": "zEPJ8OsgOqrH"
      },
      "id": "zEPJ8OsgOqrH"
    },
    {
      "cell_type": "code",
      "execution_count": null,
      "id": "8ef2e0b3",
      "metadata": {
        "id": "8ef2e0b3"
      },
      "outputs": [],
      "source": [
        "## 設定 Google API\n",
        "# 設定 Google API 金鑰，準備初始化 Google 生成式 AI 模型。\n",
        "import os\n",
        "from google.colab import userdata\n",
        "\n",
        "os.environ['GOOGLE_API_KEY'] = userdata.get('GOOGLE_API_KEY')"
      ]
    },
    {
      "cell_type": "code",
      "execution_count": null,
      "id": "df0118b5",
      "metadata": {
        "id": "df0118b5"
      },
      "outputs": [],
      "source": [
        "## 初始化生成式 AI 模型\n",
        "# 使用 Google Generative AI 的模型來處理查詢。\n",
        "from langchain_google_genai import ChatGoogleGenerativeAI\n",
        "\n",
        "# 初始化語言模型\n",
        "llm = ChatGoogleGenerativeAI(\n",
        "    model=\"gemini-1.5-flash-8b\",\n",
        "    temperature=0,\n",
        ")"
      ]
    },
    {
      "cell_type": "markdown",
      "source": [
        "# LLM with tool - Function Calling"
      ],
      "metadata": {
        "id": "C2Quv8SqNsiL"
      },
      "id": "C2Quv8SqNsiL"
    },
    {
      "cell_type": "code",
      "execution_count": null,
      "id": "23b6b25a",
      "metadata": {
        "id": "23b6b25a"
      },
      "outputs": [],
      "source": [
        "## 定義打擊成績查詢工具\n",
        "# 使用 LangChain 的工具功能定義搜尋特定選手打擊數據的工具。\n",
        "import pandas as pd\n",
        "import json\n",
        "from langchain_core.tools import tool\n",
        "\n",
        "@tool\n",
        "def search_bat_player_stats(player_name: str) -> str:\n",
        "    \"\"\"\n",
        "    Search for player statistics by name in the CSV file.\n",
        "    Returns raw data in JSON format.\n",
        "    \"\"\"\n",
        "    try:\n",
        "        # 讀取 CSV 文件\n",
        "        file_path = \"/content/中華隊_bat_data_with_chinese_names.csv\"\n",
        "        df = pd.read_csv(file_path)\n",
        "\n",
        "        # 搜尋球員\n",
        "        player_data = df[df['player_chinese'] == player_name]\n",
        "\n",
        "        if player_data.empty:\n",
        "            return json.dumps({\"error\": \"Player not found.\"})\n",
        "\n",
        "        # 將結果轉換為 JSON 格式\n",
        "        result = player_data.to_dict(orient=\"records\")\n",
        "        return json.dumps(result, ensure_ascii=False)\n",
        "\n",
        "    except Exception as e:\n",
        "        return json.dumps({\"error\": str(e)})"
      ]
    },
    {
      "cell_type": "code",
      "execution_count": null,
      "id": "e3065f83",
      "metadata": {
        "colab": {
          "base_uri": "https://localhost:8080/",
          "height": 87
        },
        "id": "e3065f83",
        "outputId": "92034f51-e166-4436-a9ff-0a48c6e800dc"
      },
      "outputs": [
        {
          "output_type": "stream",
          "name": "stdout",
          "text": [
            "CPU times: user 15.3 ms, sys: 2.82 ms, total: 18.1 ms\n",
            "Wall time: 49.5 ms\n"
          ]
        },
        {
          "output_type": "execute_result",
          "data": {
            "text/plain": [
              "'[{\"球員\": \"CHANG\\\\nCheng-Yu\", \"AB\": 7, \"R\": 1, \"H\": 1, \"2B\": 0, \"3B\": 0, \"HR\": 0, \"RBI\": 1, \"TB\": 1, \"AVG\": 0.143, \"SLG\": 0.143, \"OBP\": 0.143, \"OPS\": 0.286, \"BB\": 0, \"HBP\": 0, \"SO\": 1, \"GDP\": 0, \"SF\": 0, \"SH\": 0, \"SB\": 1, \"CS\": 0, \"player_chinese\": \"張政禹\"}]'"
            ],
            "application/vnd.google.colaboratory.intrinsic+json": {
              "type": "string"
            }
          },
          "metadata": {},
          "execution_count": 6
        }
      ],
      "source": [
        "## 測試打擊成績查詢工具\n",
        "# 測試 `search_bat_player_stats` 工具，查詢張政禹的打擊數據。\n",
        "%%time\n",
        "\n",
        "search_bat_player_stats.invoke({\"player_name\": \"張政禹\"})"
      ]
    },
    {
      "cell_type": "code",
      "execution_count": null,
      "id": "89610ada",
      "metadata": {
        "id": "89610ada"
      },
      "outputs": [],
      "source": [
        "## 綁定工具與語言模型\n",
        "# 將 `search_bat_player_stats` 工具綁定到語言模型，方便整合操作。\n",
        "llm_with_tools = llm.bind_tools([search_bat_player_stats])"
      ]
    },
    {
      "cell_type": "code",
      "execution_count": null,
      "id": "11301ebd",
      "metadata": {
        "colab": {
          "base_uri": "https://localhost:8080/"
        },
        "id": "11301ebd",
        "outputId": "e44a28bd-97d7-4a73-f40e-40d0f0678da3"
      },
      "outputs": [
        {
          "output_type": "stream",
          "name": "stdout",
          "text": [
            "CPU times: user 15.1 ms, sys: 1.9 ms, total: 17.1 ms\n",
            "Wall time: 515 ms\n"
          ]
        },
        {
          "output_type": "execute_result",
          "data": {
            "text/plain": [
              "[{'name': 'search_bat_player_stats',\n",
              "  'args': {'player_name': '張政禹'},\n",
              "  'id': 'fd8d881d-2906-4b40-91a9-c9c044626e29',\n",
              "  'type': 'tool_call'}]"
            ]
          },
          "metadata": {},
          "execution_count": 8
        }
      ],
      "source": [
        "## 測試語言模型與工具的整合\n",
        "# 測試整合後的工具，詢問張政禹的比賽成績並檢視結果。\n",
        "%%time\n",
        "\n",
        "msg = llm_with_tools.invoke(\"張政禹選手的成績？\")\n",
        "msg.tool_calls"
      ]
    },
    {
      "cell_type": "markdown",
      "source": [
        "# AI Agent with three tools"
      ],
      "metadata": {
        "id": "QXIX-MHfOzlu"
      },
      "id": "QXIX-MHfOzlu"
    },
    {
      "cell_type": "code",
      "execution_count": null,
      "id": "21b692fa",
      "metadata": {
        "colab": {
          "base_uri": "https://localhost:8080/"
        },
        "id": "21b692fa",
        "outputId": "a6ceac91-86eb-4239-b727-b71ee885e5e8"
      },
      "outputs": [
        {
          "output_type": "stream",
          "name": "stdout",
          "text": [
            "================================\u001b[1m Human Message \u001b[0m=================================\n",
            "\n",
            "\n",
            "================================ System Message ================================\n",
            "\n",
            "這是一個可以查詢 2024 12強棒球賽，中華隊投球、打擊、守備數據庫，\n",
            "你是一個專業的數據查詢和分析助手。你可以使用工具來查詢數據並幫助用戶完成額外計算。\n",
            "\n",
            "工具分成：\n",
            "1. 打擊數據成績\n",
            "2. 投球數據成績\n",
            "3. 守備數據成績\n",
            "\n",
            "當用戶詢問問題時：\n",
            "- 首先使用工具查詢棒球員的相關數據。\n",
            "- 然後完成所需的計算。\n",
            "- 最後以自然語言回答用戶的問題。\n",
            "\n",
            "現在準備好處理用戶的請求。\n",
            "\n",
            "================================ Human Message =================================\n",
            "\n",
            "\u001b[33;1m\u001b[1;3m{input}\u001b[0m\n",
            "\n",
            "============================= Messages Placeholder =============================\n",
            "\n",
            "\u001b[33;1m\u001b[1;3m{agent_scratchpad}\u001b[0m\n",
            "\n"
          ]
        }
      ],
      "source": [
        "## 定義自訂 Prompt 模板\n",
        "# 定義用於生成式 AI 和工具的 Prompt，包含佔位符以便替換。\n",
        "from langchain_core.prompts import ChatPromptTemplate\n",
        "\n",
        "# 定義包含佔位符的字串模板\n",
        "template = \"\"\"\n",
        "================================ System Message ================================\n",
        "\n",
        "這是一個可以查詢 2024 12強棒球賽，中華隊投球、打擊、守備數據庫，\n",
        "你是一個專業的數據查詢和分析助手。你可以使用工具來查詢數據並幫助用戶完成額外計算。\n",
        "\n",
        "工具分成：\n",
        "1. 打擊數據成績\n",
        "2. 投球數據成績\n",
        "3. 守備數據成績\n",
        "\n",
        "當用戶詢問問題時：\n",
        "- 首先使用工具查詢棒球員的相關數據。\n",
        "- 然後完成所需的計算。\n",
        "- 最後以自然語言回答用戶的問題。\n",
        "\n",
        "現在準備好處理用戶的請求。\n",
        "\n",
        "================================ Human Message =================================\n",
        "\n",
        "{input}\n",
        "\n",
        "============================= Messages Placeholder =============================\n",
        "\n",
        "{agent_scratchpad}\n",
        "\"\"\"\n",
        "\n",
        "# 使用 from_template 方法將字串轉換為 ChatPromptTemplate\n",
        "prompt = ChatPromptTemplate.from_template(template)\n",
        "prompt.pretty_print()"
      ]
    },
    {
      "cell_type": "code",
      "execution_count": null,
      "id": "75987beb",
      "metadata": {
        "id": "75987beb"
      },
      "outputs": [],
      "source": [
        "## 定義守備成績查詢工具\n",
        "# 定義搜尋守備成績數據的工具，擴展數據查詢能力。\n",
        "import pandas as pd\n",
        "import json\n",
        "from langchain_core.tools import tool\n",
        "\n",
        "@tool\n",
        "def search_field_player_stats(player_name: str) -> str:\n",
        "    \"\"\"\n",
        "    Search for player statistics by name in the CSV file.\n",
        "    Returns raw data in JSON format.\n",
        "    \"\"\"\n",
        "    try:\n",
        "        # 讀取 CSV 文件\n",
        "        file_path = \"/content/中華隊_field_data_with_chinese_names.csv\"\n",
        "        df = pd.read_csv(file_path)\n",
        "\n",
        "        # 搜尋球員\n",
        "        player_data = df[df['player_chinese'] == player_name]\n",
        "\n",
        "        if player_data.empty:\n",
        "            return json.dumps({\"error\": \"Player not found.\"})\n",
        "\n",
        "        # 將結果轉換為 JSON 格式\n",
        "        result = player_data.to_dict(orient=\"records\")\n",
        "        return json.dumps(result, ensure_ascii=False)\n",
        "\n",
        "    except Exception as e:\n",
        "        return json.dumps({\"error\": str(e)})"
      ]
    },
    {
      "cell_type": "code",
      "execution_count": null,
      "id": "4fb96021",
      "metadata": {
        "id": "4fb96021"
      },
      "outputs": [],
      "source": [
        "## 定義投球成績查詢工具\n",
        "# 定義搜尋投球成績數據的工具，提供完整的投手數據支持。\n",
        "import pandas as pd\n",
        "import json\n",
        "from langchain_core.tools import tool\n",
        "\n",
        "@tool\n",
        "def search_pitch_player_stats(player_name: str) -> str:\n",
        "    \"\"\"\n",
        "    Search for player statistics by name in the CSV file.\n",
        "    Returns raw data in JSON format.\n",
        "    \"\"\"\n",
        "    try:\n",
        "        # 讀取 CSV 文件\n",
        "        file_path = \"/content/中華隊_pitch_data_with_chinese_names.csv\"\n",
        "        df = pd.read_csv(file_path)\n",
        "\n",
        "        # 搜尋球員\n",
        "        player_data = df[df['player_chinese'] == player_name]\n",
        "\n",
        "        if player_data.empty:\n",
        "            return json.dumps({\"error\": \"Player not found.\"})\n",
        "\n",
        "        # 將結果轉換為 JSON 格式\n",
        "        result = player_data.to_dict(orient=\"records\")\n",
        "        return json.dumps(result, ensure_ascii=False)\n",
        "\n",
        "    except Exception as e:\n",
        "        return json.dumps({\"error\": str(e)})"
      ]
    },
    {
      "cell_type": "code",
      "execution_count": null,
      "id": "cb4ce413",
      "metadata": {
        "id": "cb4ce413"
      },
      "outputs": [],
      "source": [
        "## 載入代理工具執行模組\n",
        "# 載入 LangChain 的代理執行功能模組。\n",
        "from langchain.agents import AgentExecutor, create_tool_calling_agent\n",
        "\n",
        "## 整合所有工具\n",
        "# 將打擊、守備和投球數據查詢工具整合到工具清單中。\n",
        "tools = [search_bat_player_stats, search_field_player_stats, search_pitch_player_stats]\n",
        "\n",
        "## 創建工具代理\n",
        "# 建立代理工具系統，將語言模型和工具清單整合以提供查詢能力。\n",
        "# Construct the tool calling agent\n",
        "agent = create_tool_calling_agent(llm, tools, prompt)\n",
        "\n",
        "## 建立代理執行器\n",
        "# 設定代理執行器，允許使用工具代理執行複雜查詢。\n",
        "# Create an agent executor by passing in the agent and tools\n",
        "agent_executor = AgentExecutor(\n",
        "    agent=agent,\n",
        "    tools=tools,\n",
        "    verbose=True,\n",
        "    return_intermediate_steps=True,\n",
        "    max_iterations=5  # Example limit\n",
        ")"
      ]
    },
    {
      "cell_type": "markdown",
      "source": [
        "# User can ask the question here"
      ],
      "metadata": {
        "id": "w3B5pFk5O-uX"
      },
      "id": "w3B5pFk5O-uX"
    },
    {
      "cell_type": "code",
      "execution_count": null,
      "id": "ed8bcf40",
      "metadata": {
        "colab": {
          "base_uri": "https://localhost:8080/"
        },
        "id": "ed8bcf40",
        "outputId": "4506a447-4788-48e7-96bb-f71956c97ed3"
      },
      "outputs": [
        {
          "output_type": "stream",
          "name": "stdout",
          "text": [
            "\n",
            "\n",
            "\u001b[1m> Entering new AgentExecutor chain...\u001b[0m\n",
            "\u001b[32;1m\u001b[1;3m\n",
            "Invoking: `search_pitch_player_stats` with `{'player_name': '王志煊'}`\n",
            "\n",
            "\n",
            "\u001b[0m\u001b[38;5;200m\u001b[1;3m[{\"球員\": \"WANG\\nChih-Hsuan\", \"W\": 1, \"L\": 0, \"ERA\": 0.0, \"APP\": 2, \"GS\": 0, \"SV\": 0, \"IP\": 2.0, \"H\": 1, \"R\": 0, \"ER\": 0, \"BB\": 0, \"SO\": 2, \"2B\": 1, \"HR\": 0, \"AB\": 7, \"BAVG\": 0.143, \"HB\": 0, \"SHA\": 0, \"SHA.1\": 0, \"GO\": 1, \"FO\": 3, \"WHIP\": 0.5, \"player_chinese\": \"王志煊\"}]\u001b[0m\u001b[32;1m\u001b[1;3m\n",
            "Invoking: `search_pitch_player_stats` with `{'player_name': '王志煊'}`\n",
            "\n",
            "\n",
            "\u001b[0m\u001b[38;5;200m\u001b[1;3m[{\"球員\": \"WANG\\nChih-Hsuan\", \"W\": 1, \"L\": 0, \"ERA\": 0.0, \"APP\": 2, \"GS\": 0, \"SV\": 0, \"IP\": 2.0, \"H\": 1, \"R\": 0, \"ER\": 0, \"BB\": 0, \"SO\": 2, \"2B\": 1, \"HR\": 0, \"AB\": 7, \"BAVG\": 0.143, \"HB\": 0, \"SHA\": 0, \"SHA.1\": 0, \"GO\": 1, \"FO\": 3, \"WHIP\": 0.5, \"player_chinese\": \"王志煊\"}]\u001b[0m\u001b[32;1m\u001b[1;3m王志煊的投球成績：\n",
            "\n",
            "投球次數：2\n",
            "勝場：1\n",
            "敗場：0\n",
            "自責分率：0.0\n",
            "投球局數：2.0\n",
            "被安打：1\n",
            "失分：0\n",
            "自責分：0\n",
            "保送：0\n",
            "三振：2\n",
            "滾地球：1\n",
            "飛球：3\n",
            "\n",
            "滾飛比：1/3 = 0.33\n",
            "\u001b[0m\n",
            "\n",
            "\u001b[1m> Finished chain.\u001b[0m\n",
            "CPU times: user 116 ms, sys: 12.1 ms, total: 128 ms\n",
            "Wall time: 1.8 s\n"
          ]
        }
      ],
      "source": [
        "## 測試代理執行器\n",
        "# 使用代理執行器查詢王志煊的投球成績，並計算滾飛比。\n",
        "%%time\n",
        "\n",
        "result = agent_executor.invoke(\n",
        "    {\n",
        "        \"input\": \"請問王志煊的投球成績，並幫我計算滾飛比？\"\n",
        "    }\n",
        ")"
      ]
    },
    {
      "cell_type": "code",
      "execution_count": null,
      "id": "2794a750",
      "metadata": {
        "colab": {
          "base_uri": "https://localhost:8080/"
        },
        "id": "2794a750",
        "outputId": "f5cecacd-bd62-4ac3-c70c-7279abf04819"
      },
      "outputs": [
        {
          "output_type": "stream",
          "name": "stdout",
          "text": [
            "王志煊的投球成績：\n",
            "\n",
            "投球次數：2\n",
            "勝場：1\n",
            "敗場：0\n",
            "自責分率：0.0\n",
            "投球局數：2.0\n",
            "被安打：1\n",
            "失分：0\n",
            "自責分：0\n",
            "保送：0\n",
            "三振：2\n",
            "滾地球：1\n",
            "飛球：3\n",
            "\n",
            "滾飛比：1/3 = 0.33\n",
            "\n"
          ]
        }
      ],
      "source": [
        "## 列印結果\n",
        "# 輸出查詢結果到控制台。\n",
        "print(result['output'])"
      ]
    },
    {
      "cell_type": "code",
      "execution_count": null,
      "id": "af732759",
      "metadata": {
        "colab": {
          "base_uri": "https://localhost:8080/"
        },
        "id": "af732759",
        "outputId": "de2815d7-8ebc-422e-e318-bb0bd63661d0"
      },
      "outputs": [
        {
          "output_type": "stream",
          "name": "stdout",
          "text": [
            "\n",
            "\n",
            "\u001b[1m> Entering new AgentExecutor chain...\u001b[0m\n",
            "\u001b[32;1m\u001b[1;3m\n",
            "Invoking: `search_bat_player_stats` with `{'player_name': '林安可'}`\n",
            "\n",
            "\n",
            "\u001b[0m\u001b[36;1m\u001b[1;3m[{\"球員\": \"LIN\\nAn-Ko\", \"AB\": 8, \"R\": 0, \"H\": 2, \"2B\": 1, \"3B\": 0, \"HR\": 0, \"RBI\": 0, \"TB\": 3, \"AVG\": 0.25, \"SLG\": 0.375, \"OBP\": 0.333, \"OPS\": 0.708, \"BB\": 0, \"HBP\": 1, \"SO\": 2, \"GDP\": 0, \"SF\": 0, \"SH\": 0, \"SB\": 0, \"CS\": 0, \"player_chinese\": \"林安可\"}]\u001b[0m\u001b[32;1m\u001b[1;3m林安可這次比賽打擊成績為：打數 8 球，安打 2 支，包含 1 支二壘打，打擊率 0.25，上壘率 0.333，長打率 0.375，OPS 值 0.708。此外，他被擊中 1 次，三振 2 次。\n",
            "\u001b[0m\n",
            "\n",
            "\u001b[1m> Finished chain.\u001b[0m\n",
            "CPU times: user 53.9 ms, sys: 5.2 ms, total: 59.1 ms\n",
            "Wall time: 1.06 s\n"
          ]
        }
      ],
      "source": [
        "## 測試其他查詢\n",
        "# 測試代理執行器查詢林安可的打擊狀況，檢視結果。\n",
        "%%time\n",
        "\n",
        "result = agent_executor.invoke(\n",
        "    {\n",
        "        \"input\": \"請問林安可這次賽會的打擊狀況如何？\"\n",
        "    }\n",
        ")"
      ]
    },
    {
      "cell_type": "code",
      "execution_count": null,
      "id": "b72718b2",
      "metadata": {
        "colab": {
          "base_uri": "https://localhost:8080/"
        },
        "id": "b72718b2",
        "outputId": "4cfba872-89fe-40f1-ae8e-063690197a48"
      },
      "outputs": [
        {
          "output_type": "stream",
          "name": "stdout",
          "text": [
            "林安可這次比賽打擊成績為：打數 8 球，安打 2 支，包含 1 支二壘打，打擊率 0.25，上壘率 0.333，長打率 0.375，OPS 值 0.708。\n",
            "此外，他被擊中 1 次，三振 2 次。\n",
            "\n",
            "\n"
          ]
        }
      ],
      "source": [
        "## 格式化並列印輸出\n",
        "# 將輸出格式化後列印，提高結果的可讀性。\n",
        "# 印出結果\n",
        "print(result['output'].replace('。', '。\\n'))"
      ]
    },
    {
      "cell_type": "markdown",
      "source": [
        "# Use Google Mesop python package application UI."
      ],
      "metadata": {
        "id": "K84vYo6VPHqK"
      },
      "id": "K84vYo6VPHqK"
    },
    {
      "cell_type": "code",
      "source": [
        "!pip install mesop"
      ],
      "metadata": {
        "colab": {
          "base_uri": "https://localhost:8080/"
        },
        "id": "4QGGuf6-PISx",
        "outputId": "d30f6f8a-486a-4fdc-f448-f8605dea8292"
      },
      "id": "4QGGuf6-PISx",
      "execution_count": null,
      "outputs": [
        {
          "output_type": "stream",
          "name": "stdout",
          "text": [
            "Collecting mesop\n",
            "  Downloading mesop-0.12.9-py3-none-any.whl.metadata (1.0 kB)\n",
            "Requirement already satisfied: absl-py in /usr/local/lib/python3.10/dist-packages (from mesop) (1.4.0)\n",
            "Collecting deepdiff==6.* (from mesop)\n",
            "  Downloading deepdiff-6.7.1-py3-none-any.whl.metadata (6.1 kB)\n",
            "Requirement already satisfied: flask in /usr/local/lib/python3.10/dist-packages (from mesop) (3.0.3)\n",
            "Requirement already satisfied: msgpack in /usr/local/lib/python3.10/dist-packages (from mesop) (1.1.0)\n",
            "Requirement already satisfied: protobuf in /usr/local/lib/python3.10/dist-packages (from mesop) (4.25.5)\n",
            "Requirement already satisfied: pydantic in /usr/local/lib/python3.10/dist-packages (from mesop) (2.9.2)\n",
            "Requirement already satisfied: python-dotenv in /usr/local/lib/python3.10/dist-packages (from mesop) (1.0.1)\n",
            "Collecting watchdog (from mesop)\n",
            "  Downloading watchdog-6.0.0-py3-none-manylinux2014_x86_64.whl.metadata (44 kB)\n",
            "\u001b[2K     \u001b[90m━━━━━━━━━━━━━━━━━━━━━━━━━━━━━━━━━━━━━━━━\u001b[0m \u001b[32m44.3/44.3 kB\u001b[0m \u001b[31m1.9 MB/s\u001b[0m eta \u001b[36m0:00:00\u001b[0m\n",
            "\u001b[?25hRequirement already satisfied: werkzeug>=3.0.6 in /usr/local/lib/python3.10/dist-packages (from mesop) (3.1.3)\n",
            "Collecting ordered-set<4.2.0,>=4.0.2 (from deepdiff==6.*->mesop)\n",
            "  Downloading ordered_set-4.1.0-py3-none-any.whl.metadata (5.3 kB)\n",
            "Requirement already satisfied: MarkupSafe>=2.1.1 in /usr/local/lib/python3.10/dist-packages (from werkzeug>=3.0.6->mesop) (3.0.2)\n",
            "Requirement already satisfied: Jinja2>=3.1.2 in /usr/local/lib/python3.10/dist-packages (from flask->mesop) (3.1.4)\n",
            "Requirement already satisfied: itsdangerous>=2.1.2 in /usr/local/lib/python3.10/dist-packages (from flask->mesop) (2.2.0)\n",
            "Requirement already satisfied: click>=8.1.3 in /usr/local/lib/python3.10/dist-packages (from flask->mesop) (8.1.7)\n",
            "Requirement already satisfied: blinker>=1.6.2 in /usr/local/lib/python3.10/dist-packages (from flask->mesop) (1.9.0)\n",
            "Requirement already satisfied: annotated-types>=0.6.0 in /usr/local/lib/python3.10/dist-packages (from pydantic->mesop) (0.7.0)\n",
            "Requirement already satisfied: pydantic-core==2.23.4 in /usr/local/lib/python3.10/dist-packages (from pydantic->mesop) (2.23.4)\n",
            "Requirement already satisfied: typing-extensions>=4.6.1 in /usr/local/lib/python3.10/dist-packages (from pydantic->mesop) (4.12.2)\n",
            "Downloading mesop-0.12.9-py3-none-any.whl (8.1 MB)\n",
            "\u001b[2K   \u001b[90m━━━━━━━━━━━━━━━━━━━━━━━━━━━━━━━━━━━━━━━━\u001b[0m \u001b[32m8.1/8.1 MB\u001b[0m \u001b[31m41.8 MB/s\u001b[0m eta \u001b[36m0:00:00\u001b[0m\n",
            "\u001b[?25hDownloading deepdiff-6.7.1-py3-none-any.whl (76 kB)\n",
            "\u001b[2K   \u001b[90m━━━━━━━━━━━━━━━━━━━━━━━━━━━━━━━━━━━━━━━━\u001b[0m \u001b[32m76.6/76.6 kB\u001b[0m \u001b[31m3.5 MB/s\u001b[0m eta \u001b[36m0:00:00\u001b[0m\n",
            "\u001b[?25hDownloading watchdog-6.0.0-py3-none-manylinux2014_x86_64.whl (79 kB)\n",
            "\u001b[2K   \u001b[90m━━━━━━━━━━━━━━━━━━━━━━━━━━━━━━━━━━━━━━━━\u001b[0m \u001b[32m79.1/79.1 kB\u001b[0m \u001b[31m5.7 MB/s\u001b[0m eta \u001b[36m0:00:00\u001b[0m\n",
            "\u001b[?25hDownloading ordered_set-4.1.0-py3-none-any.whl (7.6 kB)\n",
            "Installing collected packages: watchdog, ordered-set, deepdiff, mesop\n",
            "Successfully installed deepdiff-6.7.1 mesop-0.12.9 ordered-set-4.1.0 watchdog-6.0.0\n"
          ]
        }
      ]
    },
    {
      "cell_type": "code",
      "source": [
        "import mesop as me\n",
        "import mesop.labs as mel\n",
        "\n",
        "me.colab_run()"
      ],
      "metadata": {
        "colab": {
          "base_uri": "https://localhost:8080/"
        },
        "id": "8KJZ90FGPL2Y",
        "outputId": "f9c9bfbc-85e6-43c6-efae-1beec7046dc9"
      },
      "id": "8KJZ90FGPL2Y",
      "execution_count": null,
      "outputs": [
        {
          "output_type": "stream",
          "name": "stdout",
          "text": [
            "\n",
            "\u001b[32mRunning server on: http://localhost:32123\u001b[0m\n",
            " * Serving Flask app 'mesop.server.server'\n",
            " * Debug mode: off\n"
          ]
        },
        {
          "output_type": "stream",
          "name": "stderr",
          "text": [
            "INFO:werkzeug:\u001b[31m\u001b[1mWARNING: This is a development server. Do not use it in a production deployment. Use a production WSGI server instead.\u001b[0m\n",
            " * Running on all addresses (::)\n",
            " * Running on http://[::1]:32123\n",
            " * Running on http://[::1]:32123\n"
          ]
        }
      ]
    },
    {
      "cell_type": "code",
      "source": [
        "@me.page(path=\"/chat\")\n",
        "def chat():\n",
        "  mel.chat(transform)\n",
        "\n",
        "def transform(prompt: str, history: list[mel.ChatMessage]) -> str:\n",
        "    result = agent_executor.invoke(\n",
        "        {\n",
        "            \"input\": prompt\n",
        "        }\n",
        "    )\n",
        "\n",
        "    return result['output']"
      ],
      "metadata": {
        "id": "4H4PJNlXPLz_"
      },
      "id": "4H4PJNlXPLz_",
      "execution_count": null,
      "outputs": []
    },
    {
      "cell_type": "code",
      "source": [
        "me.colab_show(path=\"/chat\", height = '400')"
      ],
      "metadata": {
        "colab": {
          "base_uri": "https://localhost:8080/",
          "height": 421
        },
        "id": "UNtgDQJzPLuh",
        "outputId": "7af6bfef-80b7-49a9-c795-09992378ee1d"
      },
      "id": "UNtgDQJzPLuh",
      "execution_count": null,
      "outputs": [
        {
          "output_type": "display_data",
          "data": {
            "text/plain": [
              "<IPython.core.display.Javascript object>"
            ],
            "application/javascript": [
              "(async (port, path, width, height, cache, element) => {\n",
              "    if (!google.colab.kernel.accessAllowed && !cache) {\n",
              "      return;\n",
              "    }\n",
              "    element.appendChild(document.createTextNode(''));\n",
              "    const url = await google.colab.kernel.proxyPort(port, {cache});\n",
              "    const iframe = document.createElement('iframe');\n",
              "    iframe.src = new URL(path, url).toString();\n",
              "    iframe.height = height;\n",
              "    iframe.width = width;\n",
              "    iframe.style.border = 0;\n",
              "    iframe.allow = [\n",
              "        'accelerometer',\n",
              "        'autoplay',\n",
              "        'camera',\n",
              "        'clipboard-read',\n",
              "        'clipboard-write',\n",
              "        'gyroscope',\n",
              "        'magnetometer',\n",
              "        'microphone',\n",
              "        'serial',\n",
              "        'usb',\n",
              "        'xr-spatial-tracking',\n",
              "    ].join('; ');\n",
              "    element.appendChild(iframe);\n",
              "  })(32123, \"/chat\", \"100%\", \"400\", false, window.element)"
            ]
          },
          "metadata": {}
        }
      ]
    }
  ],
  "metadata": {
    "colab": {
      "provenance": []
    },
    "kernelspec": {
      "display_name": "Python 3",
      "name": "python3"
    },
    "language_info": {
      "name": "python"
    }
  },
  "nbformat": 4,
  "nbformat_minor": 5
}